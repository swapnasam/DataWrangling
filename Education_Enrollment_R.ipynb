{
 "cells": [
  {
   "cell_type": "code",
   "execution_count": 1,
   "metadata": {},
   "outputs": [
    {
     "name": "stderr",
     "output_type": "stream",
     "text": [
      "-- \u001b[1mAttaching packages\u001b[22m --------------------------------------- tidyverse 1.2.1 --\n",
      "\u001b[32mv\u001b[39m \u001b[34mggplot2\u001b[39m 3.2.0     \u001b[32mv\u001b[39m \u001b[34mpurrr  \u001b[39m 0.3.2\n",
      "\u001b[32mv\u001b[39m \u001b[34mtibble \u001b[39m 2.1.3     \u001b[32mv\u001b[39m \u001b[34mdplyr  \u001b[39m 0.8.3\n",
      "\u001b[32mv\u001b[39m \u001b[34mtidyr  \u001b[39m 0.8.3     \u001b[32mv\u001b[39m \u001b[34mstringr\u001b[39m 1.4.0\n",
      "\u001b[32mv\u001b[39m \u001b[34mreadr  \u001b[39m 1.3.1     \u001b[32mv\u001b[39m \u001b[34mforcats\u001b[39m 0.4.0\n",
      "-- \u001b[1mConflicts\u001b[22m ------------------------------------------ tidyverse_conflicts() --\n",
      "\u001b[31mx\u001b[39m \u001b[34mdplyr\u001b[39m::\u001b[32mfilter()\u001b[39m masks \u001b[34mstats\u001b[39m::filter()\n",
      "\u001b[31mx\u001b[39m \u001b[34mdplyr\u001b[39m::\u001b[32mlag()\u001b[39m    masks \u001b[34mstats\u001b[39m::lag()\n"
     ]
    }
   ],
   "source": [
    "library(tidyverse)\n",
    "library(readxl)\n",
    "library(visdat)\n",
    "library(ggplot2)\n",
    "library(dplyr)"
   ]
  },
  {
   "cell_type": "code",
   "execution_count": 2,
   "metadata": {},
   "outputs": [
    {
     "name": "stderr",
     "output_type": "stream",
     "text": [
      "New names:\n",
      "* `` -> ...2\n"
     ]
    },
    {
     "data": {
      "text/html": [
       "<table>\n",
       "<caption>A tibble: 6 × 7</caption>\n",
       "<thead>\n",
       "\t<tr><th scope=col>Region/Country/Area</th><th scope=col>...2</th><th scope=col>Year</th><th scope=col>Series</th><th scope=col>Value</th><th scope=col>Footnotes</th><th scope=col>Source</th></tr>\n",
       "\t<tr><th scope=col>&lt;dbl&gt;</th><th scope=col>&lt;chr&gt;</th><th scope=col>&lt;dbl&gt;</th><th scope=col>&lt;chr&gt;</th><th scope=col>&lt;dbl&gt;</th><th scope=col>&lt;chr&gt;</th><th scope=col>&lt;chr&gt;</th></tr>\n",
       "</thead>\n",
       "<tbody>\n",
       "\t<tr><td>1</td><td>Total, all countries or areas</td><td>2005</td><td>Students enrolled in primary education (thousands)  </td><td>678991.6100</td><td>NA</td><td>United Nations Educational, Scientific and Cultural Organization (UNESCO), Montreal, the UNESCO Institute for Statistics (UIS) statistics database, last accessed March 2019.</td></tr>\n",
       "\t<tr><td>1</td><td>Total, all countries or areas</td><td>2005</td><td>Gross enrollement ratio - Primary (male)            </td><td>   104.9360</td><td>NA</td><td>United Nations Educational, Scientific and Cultural Organization (UNESCO), Montreal, the UNESCO Institute for Statistics (UIS) statistics database, last accessed March 2019.</td></tr>\n",
       "\t<tr><td>1</td><td>Total, all countries or areas</td><td>2005</td><td>Gross enrollment ratio - Primary (female)           </td><td>    99.9214</td><td>NA</td><td>United Nations Educational, Scientific and Cultural Organization (UNESCO), Montreal, the UNESCO Institute for Statistics (UIS) statistics database, last accessed March 2019.</td></tr>\n",
       "\t<tr><td>1</td><td>Total, all countries or areas</td><td>2005</td><td>Students enrolled in secondary education (thousands)</td><td>509245.7600</td><td>NA</td><td>United Nations Educational, Scientific and Cultural Organization (UNESCO), Montreal, the UNESCO Institute for Statistics (UIS) statistics database, last accessed March 2019.</td></tr>\n",
       "\t<tr><td>1</td><td>Total, all countries or areas</td><td>2005</td><td>Gross enrollment ratio - Secondary (male)           </td><td>    65.7318</td><td>NA</td><td>United Nations Educational, Scientific and Cultural Organization (UNESCO), Montreal, the UNESCO Institute for Statistics (UIS) statistics database, last accessed March 2019.</td></tr>\n",
       "\t<tr><td>1</td><td>Total, all countries or areas</td><td>2005</td><td>Gross enrollment ratio - Secondary (female)         </td><td>    62.0691</td><td>NA</td><td>United Nations Educational, Scientific and Cultural Organization (UNESCO), Montreal, the UNESCO Institute for Statistics (UIS) statistics database, last accessed March 2019.</td></tr>\n",
       "</tbody>\n",
       "</table>\n"
      ],
      "text/latex": [
       "A tibble: 6 × 7\n",
       "\\begin{tabular}{r|lllllll}\n",
       " Region/Country/Area & ...2 & Year & Series & Value & Footnotes & Source\\\\\n",
       " <dbl> & <chr> & <dbl> & <chr> & <dbl> & <chr> & <chr>\\\\\n",
       "\\hline\n",
       "\t 1 & Total, all countries or areas & 2005 & Students enrolled in primary education (thousands)   & 678991.6100 & NA & United Nations Educational, Scientific and Cultural Organization (UNESCO), Montreal, the UNESCO Institute for Statistics (UIS) statistics database, last accessed March 2019.\\\\\n",
       "\t 1 & Total, all countries or areas & 2005 & Gross enrollement ratio - Primary (male)             &    104.9360 & NA & United Nations Educational, Scientific and Cultural Organization (UNESCO), Montreal, the UNESCO Institute for Statistics (UIS) statistics database, last accessed March 2019.\\\\\n",
       "\t 1 & Total, all countries or areas & 2005 & Gross enrollment ratio - Primary (female)            &     99.9214 & NA & United Nations Educational, Scientific and Cultural Organization (UNESCO), Montreal, the UNESCO Institute for Statistics (UIS) statistics database, last accessed March 2019.\\\\\n",
       "\t 1 & Total, all countries or areas & 2005 & Students enrolled in secondary education (thousands) & 509245.7600 & NA & United Nations Educational, Scientific and Cultural Organization (UNESCO), Montreal, the UNESCO Institute for Statistics (UIS) statistics database, last accessed March 2019.\\\\\n",
       "\t 1 & Total, all countries or areas & 2005 & Gross enrollment ratio - Secondary (male)            &     65.7318 & NA & United Nations Educational, Scientific and Cultural Organization (UNESCO), Montreal, the UNESCO Institute for Statistics (UIS) statistics database, last accessed March 2019.\\\\\n",
       "\t 1 & Total, all countries or areas & 2005 & Gross enrollment ratio - Secondary (female)          &     62.0691 & NA & United Nations Educational, Scientific and Cultural Organization (UNESCO), Montreal, the UNESCO Institute for Statistics (UIS) statistics database, last accessed March 2019.\\\\\n",
       "\\end{tabular}\n"
      ],
      "text/markdown": [
       "\n",
       "A tibble: 6 × 7\n",
       "\n",
       "| Region/Country/Area &lt;dbl&gt; | ...2 &lt;chr&gt; | Year &lt;dbl&gt; | Series &lt;chr&gt; | Value &lt;dbl&gt; | Footnotes &lt;chr&gt; | Source &lt;chr&gt; |\n",
       "|---|---|---|---|---|---|---|\n",
       "| 1 | Total, all countries or areas | 2005 | Students enrolled in primary education (thousands)   | 678991.6100 | NA | United Nations Educational, Scientific and Cultural Organization (UNESCO), Montreal, the UNESCO Institute for Statistics (UIS) statistics database, last accessed March 2019. |\n",
       "| 1 | Total, all countries or areas | 2005 | Gross enrollement ratio - Primary (male)             |    104.9360 | NA | United Nations Educational, Scientific and Cultural Organization (UNESCO), Montreal, the UNESCO Institute for Statistics (UIS) statistics database, last accessed March 2019. |\n",
       "| 1 | Total, all countries or areas | 2005 | Gross enrollment ratio - Primary (female)            |     99.9214 | NA | United Nations Educational, Scientific and Cultural Organization (UNESCO), Montreal, the UNESCO Institute for Statistics (UIS) statistics database, last accessed March 2019. |\n",
       "| 1 | Total, all countries or areas | 2005 | Students enrolled in secondary education (thousands) | 509245.7600 | NA | United Nations Educational, Scientific and Cultural Organization (UNESCO), Montreal, the UNESCO Institute for Statistics (UIS) statistics database, last accessed March 2019. |\n",
       "| 1 | Total, all countries or areas | 2005 | Gross enrollment ratio - Secondary (male)            |     65.7318 | NA | United Nations Educational, Scientific and Cultural Organization (UNESCO), Montreal, the UNESCO Institute for Statistics (UIS) statistics database, last accessed March 2019. |\n",
       "| 1 | Total, all countries or areas | 2005 | Gross enrollment ratio - Secondary (female)          |     62.0691 | NA | United Nations Educational, Scientific and Cultural Organization (UNESCO), Montreal, the UNESCO Institute for Statistics (UIS) statistics database, last accessed March 2019. |\n",
       "\n"
      ],
      "text/plain": [
       "  Region/Country/Area ...2                          Year\n",
       "1 1                   Total, all countries or areas 2005\n",
       "2 1                   Total, all countries or areas 2005\n",
       "3 1                   Total, all countries or areas 2005\n",
       "4 1                   Total, all countries or areas 2005\n",
       "5 1                   Total, all countries or areas 2005\n",
       "6 1                   Total, all countries or areas 2005\n",
       "  Series                                               Value       Footnotes\n",
       "1 Students enrolled in primary education (thousands)   678991.6100 NA       \n",
       "2 Gross enrollement ratio - Primary (male)                104.9360 NA       \n",
       "3 Gross enrollment ratio - Primary (female)                99.9214 NA       \n",
       "4 Students enrolled in secondary education (thousands) 509245.7600 NA       \n",
       "5 Gross enrollment ratio - Secondary (male)                65.7318 NA       \n",
       "6 Gross enrollment ratio - Secondary (female)              62.0691 NA       \n",
       "  Source                                                                                                                                                                       \n",
       "1 United Nations Educational, Scientific and Cultural Organization (UNESCO), Montreal, the UNESCO Institute for Statistics (UIS) statistics database, last accessed March 2019.\n",
       "2 United Nations Educational, Scientific and Cultural Organization (UNESCO), Montreal, the UNESCO Institute for Statistics (UIS) statistics database, last accessed March 2019.\n",
       "3 United Nations Educational, Scientific and Cultural Organization (UNESCO), Montreal, the UNESCO Institute for Statistics (UIS) statistics database, last accessed March 2019.\n",
       "4 United Nations Educational, Scientific and Cultural Organization (UNESCO), Montreal, the UNESCO Institute for Statistics (UIS) statistics database, last accessed March 2019.\n",
       "5 United Nations Educational, Scientific and Cultural Organization (UNESCO), Montreal, the UNESCO Institute for Statistics (UIS) statistics database, last accessed March 2019.\n",
       "6 United Nations Educational, Scientific and Cultural Organization (UNESCO), Montreal, the UNESCO Institute for Statistics (UIS) statistics database, last accessed March 2019."
      ]
     },
     "metadata": {},
     "output_type": "display_data"
    }
   ],
   "source": [
    "# obtain file\n",
    "raw_enrollment_data <- read_excel(\"Education_Enrollment.xlsx\", col_names = TRUE, skip = 1)\n",
    "head(raw_enrollment_data)"
   ]
  },
  {
   "cell_type": "code",
   "execution_count": 3,
   "metadata": {},
   "outputs": [
    {
     "data": {
      "text/html": [
       "<table>\n",
       "<caption>A tibble: 6 × 4</caption>\n",
       "<thead>\n",
       "\t<tr><th scope=col>Countries</th><th scope=col>Year</th><th scope=col>Series</th><th scope=col>Value</th></tr>\n",
       "\t<tr><th scope=col>&lt;chr&gt;</th><th scope=col>&lt;dbl&gt;</th><th scope=col>&lt;chr&gt;</th><th scope=col>&lt;dbl&gt;</th></tr>\n",
       "</thead>\n",
       "<tbody>\n",
       "\t<tr><td>Total, all countries or areas</td><td>2005</td><td>Students enrolled in primary education (thousands)  </td><td>678991.6100</td></tr>\n",
       "\t<tr><td>Total, all countries or areas</td><td>2005</td><td>Gross enrollement ratio - Primary (male)            </td><td>   104.9360</td></tr>\n",
       "\t<tr><td>Total, all countries or areas</td><td>2005</td><td>Gross enrollment ratio - Primary (female)           </td><td>    99.9214</td></tr>\n",
       "\t<tr><td>Total, all countries or areas</td><td>2005</td><td>Students enrolled in secondary education (thousands)</td><td>509245.7600</td></tr>\n",
       "\t<tr><td>Total, all countries or areas</td><td>2005</td><td>Gross enrollment ratio - Secondary (male)           </td><td>    65.7318</td></tr>\n",
       "\t<tr><td>Total, all countries or areas</td><td>2005</td><td>Gross enrollment ratio - Secondary (female)         </td><td>    62.0691</td></tr>\n",
       "</tbody>\n",
       "</table>\n"
      ],
      "text/latex": [
       "A tibble: 6 × 4\n",
       "\\begin{tabular}{r|llll}\n",
       " Countries & Year & Series & Value\\\\\n",
       " <chr> & <dbl> & <chr> & <dbl>\\\\\n",
       "\\hline\n",
       "\t Total, all countries or areas & 2005 & Students enrolled in primary education (thousands)   & 678991.6100\\\\\n",
       "\t Total, all countries or areas & 2005 & Gross enrollement ratio - Primary (male)             &    104.9360\\\\\n",
       "\t Total, all countries or areas & 2005 & Gross enrollment ratio - Primary (female)            &     99.9214\\\\\n",
       "\t Total, all countries or areas & 2005 & Students enrolled in secondary education (thousands) & 509245.7600\\\\\n",
       "\t Total, all countries or areas & 2005 & Gross enrollment ratio - Secondary (male)            &     65.7318\\\\\n",
       "\t Total, all countries or areas & 2005 & Gross enrollment ratio - Secondary (female)          &     62.0691\\\\\n",
       "\\end{tabular}\n"
      ],
      "text/markdown": [
       "\n",
       "A tibble: 6 × 4\n",
       "\n",
       "| Countries &lt;chr&gt; | Year &lt;dbl&gt; | Series &lt;chr&gt; | Value &lt;dbl&gt; |\n",
       "|---|---|---|---|\n",
       "| Total, all countries or areas | 2005 | Students enrolled in primary education (thousands)   | 678991.6100 |\n",
       "| Total, all countries or areas | 2005 | Gross enrollement ratio - Primary (male)             |    104.9360 |\n",
       "| Total, all countries or areas | 2005 | Gross enrollment ratio - Primary (female)            |     99.9214 |\n",
       "| Total, all countries or areas | 2005 | Students enrolled in secondary education (thousands) | 509245.7600 |\n",
       "| Total, all countries or areas | 2005 | Gross enrollment ratio - Secondary (male)            |     65.7318 |\n",
       "| Total, all countries or areas | 2005 | Gross enrollment ratio - Secondary (female)          |     62.0691 |\n",
       "\n"
      ],
      "text/plain": [
       "  Countries                     Year\n",
       "1 Total, all countries or areas 2005\n",
       "2 Total, all countries or areas 2005\n",
       "3 Total, all countries or areas 2005\n",
       "4 Total, all countries or areas 2005\n",
       "5 Total, all countries or areas 2005\n",
       "6 Total, all countries or areas 2005\n",
       "  Series                                               Value      \n",
       "1 Students enrolled in primary education (thousands)   678991.6100\n",
       "2 Gross enrollement ratio - Primary (male)                104.9360\n",
       "3 Gross enrollment ratio - Primary (female)                99.9214\n",
       "4 Students enrolled in secondary education (thousands) 509245.7600\n",
       "5 Gross enrollment ratio - Secondary (male)                65.7318\n",
       "6 Gross enrollment ratio - Secondary (female)              62.0691"
      ]
     },
     "metadata": {},
     "output_type": "display_data"
    }
   ],
   "source": [
    "# select columns, rename \"\"...2\" variable to \"Countries\"\n",
    "enrollment_data1 <- raw_enrollment_data %>%\n",
    "  select(\"...2\" : \"Value\") %>%\n",
    "  rename(\"Countries\" = \"...2\")\n",
    "head(enrollment_data1)"
   ]
  },
  {
   "cell_type": "code",
   "execution_count": 4,
   "metadata": {},
   "outputs": [
    {
     "data": {
      "text/html": [
       "<table>\n",
       "<caption>A tibble: 6 × 11</caption>\n",
       "<thead>\n",
       "\t<tr><th scope=col>Countries</th><th scope=col>Year</th><th scope=col>Gross enrollement ratio - Primary (male)</th><th scope=col>Gross enrollment ratio - Primary (female)</th><th scope=col>Gross enrollment ratio - Secondary (female)</th><th scope=col>Gross enrollment ratio - Secondary (male)</th><th scope=col>Gross enrollment ratio - Tertiary (female)</th><th scope=col>Gross enrollment ratio - Tertiary (male)</th><th scope=col>Students enrolled in primary education (thousands)</th><th scope=col>Students enrolled in secondary education (thousands)</th><th scope=col>Students enrolled in tertiary education (thousands)</th></tr>\n",
       "\t<tr><th scope=col>&lt;chr&gt;</th><th scope=col>&lt;dbl&gt;</th><th scope=col>&lt;dbl&gt;</th><th scope=col>&lt;dbl&gt;</th><th scope=col>&lt;dbl&gt;</th><th scope=col>&lt;dbl&gt;</th><th scope=col>&lt;dbl&gt;</th><th scope=col>&lt;dbl&gt;</th><th scope=col>&lt;dbl&gt;</th><th scope=col>&lt;dbl&gt;</th><th scope=col>&lt;dbl&gt;</th></tr>\n",
       "</thead>\n",
       "<tbody>\n",
       "\t<tr><td>Afghanistan</td><td>2004</td><td>149.6565</td><td>65.0020</td><td> 6.1421</td><td>29.4170</td><td>0.5213</td><td> 1.8601</td><td>4430.14</td><td> 594.306</td><td> 27.648</td></tr>\n",
       "\t<tr><td>Afghanistan</td><td>2005</td><td>126.9444</td><td>74.5307</td><td> 9.3116</td><td>28.6331</td><td>    NA</td><td>     NA</td><td>4318.82</td><td> 651.453</td><td>     NA</td></tr>\n",
       "\t<tr><td>Afghanistan</td><td>2009</td><td>118.4504</td><td>78.7441</td><td>29.3865</td><td>60.9922</td><td>1.4252</td><td> 6.0536</td><td>4945.63</td><td>1716.190</td><td> 95.185</td></tr>\n",
       "\t<tr><td>Afghanistan</td><td>2010</td><td>120.5552</td><td>82.7089</td><td>34.2960</td><td>68.6471</td><td>    NA</td><td>     NA</td><td>5279.33</td><td>2044.160</td><td>     NA</td></tr>\n",
       "\t<tr><td>Afghanistan</td><td>2014</td><td>125.6708</td><td>88.0897</td><td>38.5657</td><td>68.5591</td><td>3.5854</td><td>13.0284</td><td>6217.76</td><td>2602.730</td><td>262.874</td></tr>\n",
       "\t<tr><td>Afghanistan</td><td>2015</td><td>126.2261</td><td>87.2409</td><td>38.5661</td><td>68.4120</td><td>    NA</td><td>     NA</td><td>6333.70</td><td>2698.820</td><td>     NA</td></tr>\n",
       "</tbody>\n",
       "</table>\n"
      ],
      "text/latex": [
       "A tibble: 6 × 11\n",
       "\\begin{tabular}{r|lllllllllll}\n",
       " Countries & Year & Gross enrollement ratio - Primary (male) & Gross enrollment ratio - Primary (female) & Gross enrollment ratio - Secondary (female) & Gross enrollment ratio - Secondary (male) & Gross enrollment ratio - Tertiary (female) & Gross enrollment ratio - Tertiary (male) & Students enrolled in primary education (thousands) & Students enrolled in secondary education (thousands) & Students enrolled in tertiary education (thousands)\\\\\n",
       " <chr> & <dbl> & <dbl> & <dbl> & <dbl> & <dbl> & <dbl> & <dbl> & <dbl> & <dbl> & <dbl>\\\\\n",
       "\\hline\n",
       "\t Afghanistan & 2004 & 149.6565 & 65.0020 &  6.1421 & 29.4170 & 0.5213 &  1.8601 & 4430.14 &  594.306 &  27.648\\\\\n",
       "\t Afghanistan & 2005 & 126.9444 & 74.5307 &  9.3116 & 28.6331 &     NA &      NA & 4318.82 &  651.453 &      NA\\\\\n",
       "\t Afghanistan & 2009 & 118.4504 & 78.7441 & 29.3865 & 60.9922 & 1.4252 &  6.0536 & 4945.63 & 1716.190 &  95.185\\\\\n",
       "\t Afghanistan & 2010 & 120.5552 & 82.7089 & 34.2960 & 68.6471 &     NA &      NA & 5279.33 & 2044.160 &      NA\\\\\n",
       "\t Afghanistan & 2014 & 125.6708 & 88.0897 & 38.5657 & 68.5591 & 3.5854 & 13.0284 & 6217.76 & 2602.730 & 262.874\\\\\n",
       "\t Afghanistan & 2015 & 126.2261 & 87.2409 & 38.5661 & 68.4120 &     NA &      NA & 6333.70 & 2698.820 &      NA\\\\\n",
       "\\end{tabular}\n"
      ],
      "text/markdown": [
       "\n",
       "A tibble: 6 × 11\n",
       "\n",
       "| Countries &lt;chr&gt; | Year &lt;dbl&gt; | Gross enrollement ratio - Primary (male) &lt;dbl&gt; | Gross enrollment ratio - Primary (female) &lt;dbl&gt; | Gross enrollment ratio - Secondary (female) &lt;dbl&gt; | Gross enrollment ratio - Secondary (male) &lt;dbl&gt; | Gross enrollment ratio - Tertiary (female) &lt;dbl&gt; | Gross enrollment ratio - Tertiary (male) &lt;dbl&gt; | Students enrolled in primary education (thousands) &lt;dbl&gt; | Students enrolled in secondary education (thousands) &lt;dbl&gt; | Students enrolled in tertiary education (thousands) &lt;dbl&gt; |\n",
       "|---|---|---|---|---|---|---|---|---|---|---|\n",
       "| Afghanistan | 2004 | 149.6565 | 65.0020 |  6.1421 | 29.4170 | 0.5213 |  1.8601 | 4430.14 |  594.306 |  27.648 |\n",
       "| Afghanistan | 2005 | 126.9444 | 74.5307 |  9.3116 | 28.6331 |     NA |      NA | 4318.82 |  651.453 |      NA |\n",
       "| Afghanistan | 2009 | 118.4504 | 78.7441 | 29.3865 | 60.9922 | 1.4252 |  6.0536 | 4945.63 | 1716.190 |  95.185 |\n",
       "| Afghanistan | 2010 | 120.5552 | 82.7089 | 34.2960 | 68.6471 |     NA |      NA | 5279.33 | 2044.160 |      NA |\n",
       "| Afghanistan | 2014 | 125.6708 | 88.0897 | 38.5657 | 68.5591 | 3.5854 | 13.0284 | 6217.76 | 2602.730 | 262.874 |\n",
       "| Afghanistan | 2015 | 126.2261 | 87.2409 | 38.5661 | 68.4120 |     NA |      NA | 6333.70 | 2698.820 |      NA |\n",
       "\n"
      ],
      "text/plain": [
       "  Countries   Year Gross enrollement ratio - Primary (male)\n",
       "1 Afghanistan 2004 149.6565                                \n",
       "2 Afghanistan 2005 126.9444                                \n",
       "3 Afghanistan 2009 118.4504                                \n",
       "4 Afghanistan 2010 120.5552                                \n",
       "5 Afghanistan 2014 125.6708                                \n",
       "6 Afghanistan 2015 126.2261                                \n",
       "  Gross enrollment ratio - Primary (female)\n",
       "1 65.0020                                  \n",
       "2 74.5307                                  \n",
       "3 78.7441                                  \n",
       "4 82.7089                                  \n",
       "5 88.0897                                  \n",
       "6 87.2409                                  \n",
       "  Gross enrollment ratio - Secondary (female)\n",
       "1  6.1421                                    \n",
       "2  9.3116                                    \n",
       "3 29.3865                                    \n",
       "4 34.2960                                    \n",
       "5 38.5657                                    \n",
       "6 38.5661                                    \n",
       "  Gross enrollment ratio - Secondary (male)\n",
       "1 29.4170                                  \n",
       "2 28.6331                                  \n",
       "3 60.9922                                  \n",
       "4 68.6471                                  \n",
       "5 68.5591                                  \n",
       "6 68.4120                                  \n",
       "  Gross enrollment ratio - Tertiary (female)\n",
       "1 0.5213                                    \n",
       "2     NA                                    \n",
       "3 1.4252                                    \n",
       "4     NA                                    \n",
       "5 3.5854                                    \n",
       "6     NA                                    \n",
       "  Gross enrollment ratio - Tertiary (male)\n",
       "1  1.8601                                 \n",
       "2      NA                                 \n",
       "3  6.0536                                 \n",
       "4      NA                                 \n",
       "5 13.0284                                 \n",
       "6      NA                                 \n",
       "  Students enrolled in primary education (thousands)\n",
       "1 4430.14                                           \n",
       "2 4318.82                                           \n",
       "3 4945.63                                           \n",
       "4 5279.33                                           \n",
       "5 6217.76                                           \n",
       "6 6333.70                                           \n",
       "  Students enrolled in secondary education (thousands)\n",
       "1  594.306                                            \n",
       "2  651.453                                            \n",
       "3 1716.190                                            \n",
       "4 2044.160                                            \n",
       "5 2602.730                                            \n",
       "6 2698.820                                            \n",
       "  Students enrolled in tertiary education (thousands)\n",
       "1  27.648                                            \n",
       "2      NA                                            \n",
       "3  95.185                                            \n",
       "4      NA                                            \n",
       "5 262.874                                            \n",
       "6      NA                                            "
      ]
     },
     "metadata": {},
     "output_type": "display_data"
    }
   ],
   "source": [
    "# spread data\n",
    "enrollment_data2 <- spread(enrollment_data1, Series, Value)\n",
    "head(enrollment_data2)"
   ]
  },
  {
   "cell_type": "code",
   "execution_count": 5,
   "metadata": {},
   "outputs": [
    {
     "data": {
      "image/png": "[encoded data removed]",
      "text/plain": [
       "plot without title"
      ]
     },
     "metadata": {},
     "output_type": "display_data"
    }
   ],
   "source": [
    "vis_miss(enrollment_data2)"
   ]
  },
  {
   "cell_type": "markdown",
   "metadata": {},
   "source": [
    "We choose to work on Students enrolled in primary education because it has the least number of missing values and it is an essential level of education that everyone should have"
   ]
  },
  {
   "cell_type": "code",
   "execution_count": 6,
   "metadata": {},
   "outputs": [
    {
     "data": {
      "text/html": [
       "<table>\n",
       "<caption>A tibble: 6 × 3</caption>\n",
       "<thead>\n",
       "\t<tr><th scope=col>Countries</th><th scope=col>Year</th><th scope=col>Primary_enrollment</th></tr>\n",
       "\t<tr><th scope=col>&lt;chr&gt;</th><th scope=col>&lt;dbl&gt;</th><th scope=col>&lt;dbl&gt;</th></tr>\n",
       "</thead>\n",
       "<tbody>\n",
       "\t<tr><td>Afghanistan</td><td>2004</td><td>4430.14</td></tr>\n",
       "\t<tr><td>Afghanistan</td><td>2005</td><td>4318.82</td></tr>\n",
       "\t<tr><td>Afghanistan</td><td>2009</td><td>4945.63</td></tr>\n",
       "\t<tr><td>Afghanistan</td><td>2010</td><td>5279.33</td></tr>\n",
       "\t<tr><td>Afghanistan</td><td>2014</td><td>6217.76</td></tr>\n",
       "\t<tr><td>Afghanistan</td><td>2015</td><td>6333.70</td></tr>\n",
       "</tbody>\n",
       "</table>\n"
      ],
      "text/latex": [
       "A tibble: 6 × 3\n",
       "\\begin{tabular}{r|lll}\n",
       " Countries & Year & Primary\\_enrollment\\\\\n",
       " <chr> & <dbl> & <dbl>\\\\\n",
       "\\hline\n",
       "\t Afghanistan & 2004 & 4430.14\\\\\n",
       "\t Afghanistan & 2005 & 4318.82\\\\\n",
       "\t Afghanistan & 2009 & 4945.63\\\\\n",
       "\t Afghanistan & 2010 & 5279.33\\\\\n",
       "\t Afghanistan & 2014 & 6217.76\\\\\n",
       "\t Afghanistan & 2015 & 6333.70\\\\\n",
       "\\end{tabular}\n"
      ],
      "text/markdown": [
       "\n",
       "A tibble: 6 × 3\n",
       "\n",
       "| Countries &lt;chr&gt; | Year &lt;dbl&gt; | Primary_enrollment &lt;dbl&gt; |\n",
       "|---|---|---|\n",
       "| Afghanistan | 2004 | 4430.14 |\n",
       "| Afghanistan | 2005 | 4318.82 |\n",
       "| Afghanistan | 2009 | 4945.63 |\n",
       "| Afghanistan | 2010 | 5279.33 |\n",
       "| Afghanistan | 2014 | 6217.76 |\n",
       "| Afghanistan | 2015 | 6333.70 |\n",
       "\n"
      ],
      "text/plain": [
       "  Countries   Year Primary_enrollment\n",
       "1 Afghanistan 2004 4430.14           \n",
       "2 Afghanistan 2005 4318.82           \n",
       "3 Afghanistan 2009 4945.63           \n",
       "4 Afghanistan 2010 5279.33           \n",
       "5 Afghanistan 2014 6217.76           \n",
       "6 Afghanistan 2015 6333.70           "
      ]
     },
     "metadata": {},
     "output_type": "display_data"
    }
   ],
   "source": [
    "# select variables/columns that are needed and rename column\n",
    "enrollment_data3 <- enrollment_data2 %>%\n",
    "    select(\"Countries\", \"Year\", \"Students enrolled in primary education (thousands)\") %>%\n",
    "    rename(\"Primary_enrollment\" = \"Students enrolled in primary education (thousands)\")\n",
    "head(enrollment_data3)"
   ]
  },
  {
   "cell_type": "code",
   "execution_count": 7,
   "metadata": {},
   "outputs": [
    {
     "data": {
      "image/png": "[encoded data removed]",
      "text/plain": [
       "plot without title"
      ]
     },
     "metadata": {},
     "output_type": "display_data"
    }
   ],
   "source": [
    "vis_miss(enrollment_data3)"
   ]
  },
  {
   "cell_type": "code",
   "execution_count": 8,
   "metadata": {},
   "outputs": [
    {
     "data": {
      "image/png": "[encoded data removed]",
      "text/plain": [
       "plot without title"
      ]
     },
     "metadata": {},
     "output_type": "display_data"
    }
   ],
   "source": [
    "# rename all null values to 0\n",
    "enrollment_data3[is.na(enrollment_data3)] <- '0'\n",
    "vis_miss(enrollment_data3)"
   ]
  },
  {
   "cell_type": "code",
   "execution_count": 9,
   "metadata": {},
   "outputs": [
    {
     "data": {
      "text/html": [
       "<table>\n",
       "<caption>A tibble: 1167 × 3</caption>\n",
       "<thead>\n",
       "\t<tr><th scope=col>Countries</th><th scope=col>Year</th><th scope=col>Primary_enrollment</th></tr>\n",
       "\t<tr><th scope=col>&lt;chr&gt;</th><th scope=col>&lt;dbl&gt;</th><th scope=col>&lt;chr&gt;</th></tr>\n",
       "</thead>\n",
       "<tbody>\n",
       "\t<tr><td>Togo                   </td><td>2005</td><td>996.707 </td></tr>\n",
       "\t<tr><td>Bhutan                 </td><td>2005</td><td>99.458  </td></tr>\n",
       "\t<tr><td>Bhutan                 </td><td>2015</td><td>99.291  </td></tr>\n",
       "\t<tr><td>Guyana                 </td><td>2010</td><td>99.241  </td></tr>\n",
       "\t<tr><td>China                  </td><td>2013</td><td>98870.82</td></tr>\n",
       "\t<tr><td>Jordan                 </td><td>2014</td><td>979.792 </td></tr>\n",
       "\t<tr><td>Romania                </td><td>2005</td><td>970.295 </td></tr>\n",
       "\t<tr><td>Solomon Islands        </td><td>2012</td><td>97.547  </td></tr>\n",
       "\t<tr><td>China                  </td><td>2015</td><td>95958.04</td></tr>\n",
       "\t<tr><td>Kazakhstan             </td><td>2010</td><td>957.919 </td></tr>\n",
       "\t<tr><td>Egypt                  </td><td>2005</td><td>9563.63 </td></tr>\n",
       "\t<tr><td>China                  </td><td>2014</td><td>95107.12</td></tr>\n",
       "\t<tr><td>Solomon Islands        </td><td>2010</td><td>95.379  </td></tr>\n",
       "\t<tr><td>Romania                </td><td>2015</td><td>947.205 </td></tr>\n",
       "\t<tr><td>Nicaragua              </td><td>2005</td><td>945.089 </td></tr>\n",
       "\t<tr><td>Guyana                 </td><td>2012</td><td>94.488  </td></tr>\n",
       "\t<tr><td>Bhutan                 </td><td>2017</td><td>94.184  </td></tr>\n",
       "\t<tr><td>El Salvador            </td><td>2010</td><td>939.726 </td></tr>\n",
       "\t<tr><td>Romania                </td><td>2016</td><td>939.147 </td></tr>\n",
       "\t<tr><td>Paraguay               </td><td>2005</td><td>933.995 </td></tr>\n",
       "\t<tr><td>United Rep. of Tanzania</td><td>2017</td><td>9315.66 </td></tr>\n",
       "\t<tr><td>Equatorial Guinea      </td><td>2015</td><td>93.396  </td></tr>\n",
       "\t<tr><td>Slovenia               </td><td>2005</td><td>93.156  </td></tr>\n",
       "\t<tr><td>Nicaragua              </td><td>2010</td><td>923.745 </td></tr>\n",
       "\t<tr><td>Nicaragua              </td><td>2002</td><td>923.391 </td></tr>\n",
       "\t<tr><td>Mauritius              </td><td>2017</td><td>92.989  </td></tr>\n",
       "\t<tr><td>Equatorial Guinea      </td><td>2012</td><td>92.029  </td></tr>\n",
       "\t<tr><td>Israel                 </td><td>2017</td><td>917.118 </td></tr>\n",
       "\t<tr><td>Lao People's Dem. Rep. </td><td>2010</td><td>916.341 </td></tr>\n",
       "\t<tr><td>Antigua and Barbuda    </td><td>2017</td><td>9.946   </td></tr>\n",
       "\t<tr><td>...</td><td>...</td><td>...</td></tr>\n",
       "\t<tr><td>Liberia                     </td><td>2010</td><td>0</td></tr>\n",
       "\t<tr><td>Liberia                     </td><td>2012</td><td>0</td></tr>\n",
       "\t<tr><td>Madagascar                  </td><td>2017</td><td>0</td></tr>\n",
       "\t<tr><td>Marshall Islands            </td><td>2012</td><td>0</td></tr>\n",
       "\t<tr><td>Micronesia (Fed. States of) </td><td>2000</td><td>0</td></tr>\n",
       "\t<tr><td>Montserrat                  </td><td>2010</td><td>0</td></tr>\n",
       "\t<tr><td>Myanmar                     </td><td>2012</td><td>0</td></tr>\n",
       "\t<tr><td>Namibia                     </td><td>2014</td><td>0</td></tr>\n",
       "\t<tr><td>Namibia                     </td><td>2015</td><td>0</td></tr>\n",
       "\t<tr><td>Namibia                     </td><td>2016</td><td>0</td></tr>\n",
       "\t<tr><td>Nigeria                     </td><td>2015</td><td>0</td></tr>\n",
       "\t<tr><td>Oman                        </td><td>2010</td><td>0</td></tr>\n",
       "\t<tr><td>Palau                       </td><td>2002</td><td>0</td></tr>\n",
       "\t<tr><td>Philippines                 </td><td>2010</td><td>0</td></tr>\n",
       "\t<tr><td>Philippines                 </td><td>2017</td><td>0</td></tr>\n",
       "\t<tr><td>Romania                     </td><td>2014</td><td>0</td></tr>\n",
       "\t<tr><td>Saudi Arabia                </td><td>2017</td><td>0</td></tr>\n",
       "\t<tr><td>Sierra Leone                </td><td>2002</td><td>0</td></tr>\n",
       "\t<tr><td>Singapore                   </td><td>2010</td><td>0</td></tr>\n",
       "\t<tr><td>Singapore                   </td><td>2012</td><td>0</td></tr>\n",
       "\t<tr><td>Sint Maarten (Dutch part)   </td><td>2015</td><td>0</td></tr>\n",
       "\t<tr><td>Syrian Arab Republic        </td><td>2014</td><td>0</td></tr>\n",
       "\t<tr><td>Syrian Arab Republic        </td><td>2015</td><td>0</td></tr>\n",
       "\t<tr><td>Syrian Arab Republic        </td><td>2016</td><td>0</td></tr>\n",
       "\t<tr><td>Tunisia                     </td><td>2017</td><td>0</td></tr>\n",
       "\t<tr><td>Turks and Caicos Islands    </td><td>2010</td><td>0</td></tr>\n",
       "\t<tr><td>Uganda                      </td><td>2014</td><td>0</td></tr>\n",
       "\t<tr><td>United States Virgin Islands</td><td>2007</td><td>0</td></tr>\n",
       "\t<tr><td>Zimbabwe                    </td><td>2010</td><td>0</td></tr>\n",
       "\t<tr><td>Zimbabwe                    </td><td>2015</td><td>0</td></tr>\n",
       "</tbody>\n",
       "</table>\n"
      ],
      "text/latex": [
       "A tibble: 1167 × 3\n",
       "\\begin{tabular}{r|lll}\n",
       " Countries & Year & Primary\\_enrollment\\\\\n",
       " <chr> & <dbl> & <chr>\\\\\n",
       "\\hline\n",
       "\t Togo                    & 2005 & 996.707 \\\\\n",
       "\t Bhutan                  & 2005 & 99.458  \\\\\n",
       "\t Bhutan                  & 2015 & 99.291  \\\\\n",
       "\t Guyana                  & 2010 & 99.241  \\\\\n",
       "\t China                   & 2013 & 98870.82\\\\\n",
       "\t Jordan                  & 2014 & 979.792 \\\\\n",
       "\t Romania                 & 2005 & 970.295 \\\\\n",
       "\t Solomon Islands         & 2012 & 97.547  \\\\\n",
       "\t China                   & 2015 & 95958.04\\\\\n",
       "\t Kazakhstan              & 2010 & 957.919 \\\\\n",
       "\t Egypt                   & 2005 & 9563.63 \\\\\n",
       "\t China                   & 2014 & 95107.12\\\\\n",
       "\t Solomon Islands         & 2010 & 95.379  \\\\\n",
       "\t Romania                 & 2015 & 947.205 \\\\\n",
       "\t Nicaragua               & 2005 & 945.089 \\\\\n",
       "\t Guyana                  & 2012 & 94.488  \\\\\n",
       "\t Bhutan                  & 2017 & 94.184  \\\\\n",
       "\t El Salvador             & 2010 & 939.726 \\\\\n",
       "\t Romania                 & 2016 & 939.147 \\\\\n",
       "\t Paraguay                & 2005 & 933.995 \\\\\n",
       "\t United Rep. of Tanzania & 2017 & 9315.66 \\\\\n",
       "\t Equatorial Guinea       & 2015 & 93.396  \\\\\n",
       "\t Slovenia                & 2005 & 93.156  \\\\\n",
       "\t Nicaragua               & 2010 & 923.745 \\\\\n",
       "\t Nicaragua               & 2002 & 923.391 \\\\\n",
       "\t Mauritius               & 2017 & 92.989  \\\\\n",
       "\t Equatorial Guinea       & 2012 & 92.029  \\\\\n",
       "\t Israel                  & 2017 & 917.118 \\\\\n",
       "\t Lao People's Dem. Rep.  & 2010 & 916.341 \\\\\n",
       "\t Antigua and Barbuda     & 2017 & 9.946   \\\\\n",
       "\t ... & ... & ...\\\\\n",
       "\t Liberia                      & 2010 & 0\\\\\n",
       "\t Liberia                      & 2012 & 0\\\\\n",
       "\t Madagascar                   & 2017 & 0\\\\\n",
       "\t Marshall Islands             & 2012 & 0\\\\\n",
       "\t Micronesia (Fed. States of)  & 2000 & 0\\\\\n",
       "\t Montserrat                   & 2010 & 0\\\\\n",
       "\t Myanmar                      & 2012 & 0\\\\\n",
       "\t Namibia                      & 2014 & 0\\\\\n",
       "\t Namibia                      & 2015 & 0\\\\\n",
       "\t Namibia                      & 2016 & 0\\\\\n",
       "\t Nigeria                      & 2015 & 0\\\\\n",
       "\t Oman                         & 2010 & 0\\\\\n",
       "\t Palau                        & 2002 & 0\\\\\n",
       "\t Philippines                  & 2010 & 0\\\\\n",
       "\t Philippines                  & 2017 & 0\\\\\n",
       "\t Romania                      & 2014 & 0\\\\\n",
       "\t Saudi Arabia                 & 2017 & 0\\\\\n",
       "\t Sierra Leone                 & 2002 & 0\\\\\n",
       "\t Singapore                    & 2010 & 0\\\\\n",
       "\t Singapore                    & 2012 & 0\\\\\n",
       "\t Sint Maarten (Dutch part)    & 2015 & 0\\\\\n",
       "\t Syrian Arab Republic         & 2014 & 0\\\\\n",
       "\t Syrian Arab Republic         & 2015 & 0\\\\\n",
       "\t Syrian Arab Republic         & 2016 & 0\\\\\n",
       "\t Tunisia                      & 2017 & 0\\\\\n",
       "\t Turks and Caicos Islands     & 2010 & 0\\\\\n",
       "\t Uganda                       & 2014 & 0\\\\\n",
       "\t United States Virgin Islands & 2007 & 0\\\\\n",
       "\t Zimbabwe                     & 2010 & 0\\\\\n",
       "\t Zimbabwe                     & 2015 & 0\\\\\n",
       "\\end{tabular}\n"
      ],
      "text/markdown": [
       "\n",
       "A tibble: 1167 × 3\n",
       "\n",
       "| Countries &lt;chr&gt; | Year &lt;dbl&gt; | Primary_enrollment &lt;chr&gt; |\n",
       "|---|---|---|\n",
       "| Togo                    | 2005 | 996.707  |\n",
       "| Bhutan                  | 2005 | 99.458   |\n",
       "| Bhutan                  | 2015 | 99.291   |\n",
       "| Guyana                  | 2010 | 99.241   |\n",
       "| China                   | 2013 | 98870.82 |\n",
       "| Jordan                  | 2014 | 979.792  |\n",
       "| Romania                 | 2005 | 970.295  |\n",
       "| Solomon Islands         | 2012 | 97.547   |\n",
       "| China                   | 2015 | 95958.04 |\n",
       "| Kazakhstan              | 2010 | 957.919  |\n",
       "| Egypt                   | 2005 | 9563.63  |\n",
       "| China                   | 2014 | 95107.12 |\n",
       "| Solomon Islands         | 2010 | 95.379   |\n",
       "| Romania                 | 2015 | 947.205  |\n",
       "| Nicaragua               | 2005 | 945.089  |\n",
       "| Guyana                  | 2012 | 94.488   |\n",
       "| Bhutan                  | 2017 | 94.184   |\n",
       "| El Salvador             | 2010 | 939.726  |\n",
       "| Romania                 | 2016 | 939.147  |\n",
       "| Paraguay                | 2005 | 933.995  |\n",
       "| United Rep. of Tanzania | 2017 | 9315.66  |\n",
       "| Equatorial Guinea       | 2015 | 93.396   |\n",
       "| Slovenia                | 2005 | 93.156   |\n",
       "| Nicaragua               | 2010 | 923.745  |\n",
       "| Nicaragua               | 2002 | 923.391  |\n",
       "| Mauritius               | 2017 | 92.989   |\n",
       "| Equatorial Guinea       | 2012 | 92.029   |\n",
       "| Israel                  | 2017 | 917.118  |\n",
       "| Lao People's Dem. Rep.  | 2010 | 916.341  |\n",
       "| Antigua and Barbuda     | 2017 | 9.946    |\n",
       "| ... | ... | ... |\n",
       "| Liberia                      | 2010 | 0 |\n",
       "| Liberia                      | 2012 | 0 |\n",
       "| Madagascar                   | 2017 | 0 |\n",
       "| Marshall Islands             | 2012 | 0 |\n",
       "| Micronesia (Fed. States of)  | 2000 | 0 |\n",
       "| Montserrat                   | 2010 | 0 |\n",
       "| Myanmar                      | 2012 | 0 |\n",
       "| Namibia                      | 2014 | 0 |\n",
       "| Namibia                      | 2015 | 0 |\n",
       "| Namibia                      | 2016 | 0 |\n",
       "| Nigeria                      | 2015 | 0 |\n",
       "| Oman                         | 2010 | 0 |\n",
       "| Palau                        | 2002 | 0 |\n",
       "| Philippines                  | 2010 | 0 |\n",
       "| Philippines                  | 2017 | 0 |\n",
       "| Romania                      | 2014 | 0 |\n",
       "| Saudi Arabia                 | 2017 | 0 |\n",
       "| Sierra Leone                 | 2002 | 0 |\n",
       "| Singapore                    | 2010 | 0 |\n",
       "| Singapore                    | 2012 | 0 |\n",
       "| Sint Maarten (Dutch part)    | 2015 | 0 |\n",
       "| Syrian Arab Republic         | 2014 | 0 |\n",
       "| Syrian Arab Republic         | 2015 | 0 |\n",
       "| Syrian Arab Republic         | 2016 | 0 |\n",
       "| Tunisia                      | 2017 | 0 |\n",
       "| Turks and Caicos Islands     | 2010 | 0 |\n",
       "| Uganda                       | 2014 | 0 |\n",
       "| United States Virgin Islands | 2007 | 0 |\n",
       "| Zimbabwe                     | 2010 | 0 |\n",
       "| Zimbabwe                     | 2015 | 0 |\n",
       "\n"
      ],
      "text/plain": [
       "     Countries                    Year Primary_enrollment\n",
       "1    Togo                         2005 996.707           \n",
       "2    Bhutan                       2005 99.458            \n",
       "3    Bhutan                       2015 99.291            \n",
       "4    Guyana                       2010 99.241            \n",
       "5    China                        2013 98870.82          \n",
       "6    Jordan                       2014 979.792           \n",
       "7    Romania                      2005 970.295           \n",
       "8    Solomon Islands              2012 97.547            \n",
       "9    China                        2015 95958.04          \n",
       "10   Kazakhstan                   2010 957.919           \n",
       "11   Egypt                        2005 9563.63           \n",
       "12   China                        2014 95107.12          \n",
       "13   Solomon Islands              2010 95.379            \n",
       "14   Romania                      2015 947.205           \n",
       "15   Nicaragua                    2005 945.089           \n",
       "16   Guyana                       2012 94.488            \n",
       "17   Bhutan                       2017 94.184            \n",
       "18   El Salvador                  2010 939.726           \n",
       "19   Romania                      2016 939.147           \n",
       "20   Paraguay                     2005 933.995           \n",
       "21   United Rep. of Tanzania      2017 9315.66           \n",
       "22   Equatorial Guinea            2015 93.396            \n",
       "23   Slovenia                     2005 93.156            \n",
       "24   Nicaragua                    2010 923.745           \n",
       "25   Nicaragua                    2002 923.391           \n",
       "26   Mauritius                    2017 92.989            \n",
       "27   Equatorial Guinea            2012 92.029            \n",
       "28   Israel                       2017 917.118           \n",
       "29   Lao People's Dem. Rep.       2010 916.341           \n",
       "30   Antigua and Barbuda          2017 9.946             \n",
       "...  ...                          ...  ...               \n",
       "1138 Liberia                      2010 0                 \n",
       "1139 Liberia                      2012 0                 \n",
       "1140 Madagascar                   2017 0                 \n",
       "1141 Marshall Islands             2012 0                 \n",
       "1142 Micronesia (Fed. States of)  2000 0                 \n",
       "1143 Montserrat                   2010 0                 \n",
       "1144 Myanmar                      2012 0                 \n",
       "1145 Namibia                      2014 0                 \n",
       "1146 Namibia                      2015 0                 \n",
       "1147 Namibia                      2016 0                 \n",
       "1148 Nigeria                      2015 0                 \n",
       "1149 Oman                         2010 0                 \n",
       "1150 Palau                        2002 0                 \n",
       "1151 Philippines                  2010 0                 \n",
       "1152 Philippines                  2017 0                 \n",
       "1153 Romania                      2014 0                 \n",
       "1154 Saudi Arabia                 2017 0                 \n",
       "1155 Sierra Leone                 2002 0                 \n",
       "1156 Singapore                    2010 0                 \n",
       "1157 Singapore                    2012 0                 \n",
       "1158 Sint Maarten (Dutch part)    2015 0                 \n",
       "1159 Syrian Arab Republic         2014 0                 \n",
       "1160 Syrian Arab Republic         2015 0                 \n",
       "1161 Syrian Arab Republic         2016 0                 \n",
       "1162 Tunisia                      2017 0                 \n",
       "1163 Turks and Caicos Islands     2010 0                 \n",
       "1164 Uganda                       2014 0                 \n",
       "1165 United States Virgin Islands 2007 0                 \n",
       "1166 Zimbabwe                     2010 0                 \n",
       "1167 Zimbabwe                     2015 0                 "
      ]
     },
     "metadata": {},
     "output_type": "display_data"
    }
   ],
   "source": [
    "# omit null values and filter regions out so that only countries are left, then arrange descending by number of primary enrollment\n",
    "enrollment_data5 <- enrollment_data3 %>%\n",
    "    na.omit() %>%\n",
    "    filter(Countries != \"Total, all countries or areas\") %>%\n",
    "    filter(Countries != \"Southern Asia\") %>%\n",
    "    filter(Countries != \"Sub-Saharan Africa\") %>%\n",
    "    filter(Countries != \"Eastern Asia\") %>%\n",
    "    filter(Countries != \"South-eastern Asia\") %>%\n",
    "    filter(Countries != \"Latin America & the Caribbean\") %>%\n",
    "    filter(Countries != \"Europe\") %>%\n",
    "    filter(Countries != \"Northern America\") %>%\n",
    "    filter(Countries != \"Western Asia\") %>%\n",
    "    filter(Countries != \"Northern Africa\")%>%\n",
    "    arrange(desc(Primary_enrollment))\n",
    "\n",
    "enrollment_data5"
   ]
  },
  {
   "cell_type": "code",
   "execution_count": 8,
   "metadata": {},
   "outputs": [
    {
     "data": {
      "image/png": "[encoded data removed]",
      "text/plain": [
       "plot without title"
      ]
     },
     "metadata": {},
     "output_type": "display_data"
    }
   ],
   "source": [
    "# plot primary enrollment for all countries in the world\n",
    "ggplot(enrollment_data5, aes(x=Year, y=Primary_enrollment, group=Countries)) + geom_line()"
   ]
  },
  {
   "cell_type": "markdown",
   "metadata": {},
   "source": [
    "The top 2 countries with highest number of primary enrollment are India and China. It is reasonable because they have the highest populations in the world. Ranking after those 2 countries are Indonesia, Nigeria, United States of America and Pakistan."
   ]
  },
  {
   "cell_type": "code",
   "execution_count": 16,
   "metadata": {},
   "outputs": [
    {
     "data": {
      "text/html": [
       "<table>\n",
       "<caption>A tibble: 5 × 3</caption>\n",
       "<thead>\n",
       "\t<tr><th scope=col>Countries</th><th scope=col>Year</th><th scope=col>Primary_enrollment</th></tr>\n",
       "\t<tr><th scope=col>&lt;chr&gt;</th><th scope=col>&lt;dbl&gt;</th><th scope=col>&lt;chr&gt;</th></tr>\n",
       "</thead>\n",
       "<tbody>\n",
       "\t<tr><td>New Zealand</td><td>2005</td><td>352.845</td></tr>\n",
       "\t<tr><td>New Zealand</td><td>2010</td><td>348.492</td></tr>\n",
       "\t<tr><td>New Zealand</td><td>2014</td><td>360.206</td></tr>\n",
       "\t<tr><td>New Zealand</td><td>2015</td><td>368.306</td></tr>\n",
       "\t<tr><td>New Zealand</td><td>2017</td><td>384.251</td></tr>\n",
       "</tbody>\n",
       "</table>\n"
      ],
      "text/latex": [
       "A tibble: 5 × 3\n",
       "\\begin{tabular}{r|lll}\n",
       " Countries & Year & Primary\\_enrollment\\\\\n",
       " <chr> & <dbl> & <chr>\\\\\n",
       "\\hline\n",
       "\t New Zealand & 2005 & 352.845\\\\\n",
       "\t New Zealand & 2010 & 348.492\\\\\n",
       "\t New Zealand & 2014 & 360.206\\\\\n",
       "\t New Zealand & 2015 & 368.306\\\\\n",
       "\t New Zealand & 2017 & 384.251\\\\\n",
       "\\end{tabular}\n"
      ],
      "text/markdown": [
       "\n",
       "A tibble: 5 × 3\n",
       "\n",
       "| Countries &lt;chr&gt; | Year &lt;dbl&gt; | Primary_enrollment &lt;chr&gt; |\n",
       "|---|---|---|\n",
       "| New Zealand | 2005 | 352.845 |\n",
       "| New Zealand | 2010 | 348.492 |\n",
       "| New Zealand | 2014 | 360.206 |\n",
       "| New Zealand | 2015 | 368.306 |\n",
       "| New Zealand | 2017 | 384.251 |\n",
       "\n"
      ],
      "text/plain": [
       "  Countries   Year Primary_enrollment\n",
       "1 New Zealand 2005 352.845           \n",
       "2 New Zealand 2010 348.492           \n",
       "3 New Zealand 2014 360.206           \n",
       "4 New Zealand 2015 368.306           \n",
       "5 New Zealand 2017 384.251           "
      ]
     },
     "metadata": {},
     "output_type": "display_data"
    },
    {
     "data": {
      "image/png": "[encoded data removed]",
      "text/plain": [
       "plot without title"
      ]
     },
     "metadata": {},
     "output_type": "display_data"
    }
   ],
   "source": [
    "NewZealand <- enrollment_data3 %>%\n",
    "    na.omit() %>%\n",
    "    filter(Countries == \"New Zealand\")\n",
    "NewZealand\n",
    "ggplot(NewZealand, aes(x=Year, y=Primary_enrollment, group=Countries)) + geom_line()"
   ]
  },
  {
   "cell_type": "markdown",
   "metadata": {},
   "source": [
    "New Zealand has very low primary enrollment. The maximum is 384,251 people enrolled in primary. There is a big drop in 2010 but since then it has been increasing quite steady. New Zealand government is doing well in increasing people attending primary schools."
   ]
  },
  {
   "cell_type": "code",
   "execution_count": 16,
   "metadata": {},
   "outputs": [],
   "source": [
    "# create final wrangled data\n",
    "write_csv(enrollment_data5, path = \"C:\\\\Users\\\\kim_w\\\\Education_enrollment_Wrangled.csv\")"
   ]
  }
 ],
 "metadata": {
  "kernelspec": {
   "display_name": "R",
   "language": "R",
   "name": "ir"
  },
  "language_info": {
   "codemirror_mode": "r",
   "file_extension": ".r",
   "mimetype": "text/x-r-source",
   "name": "R",
   "pygments_lexer": "r",
   "version": "3.6.1"
  }
 },
 "nbformat": 4,
 "nbformat_minor": 4
}
